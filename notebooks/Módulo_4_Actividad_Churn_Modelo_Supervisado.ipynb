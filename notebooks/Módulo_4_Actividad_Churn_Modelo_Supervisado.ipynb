{
 "cells": [
  {
   "cell_type": "markdown",
   "id": "87e5c62f",
   "metadata": {},
   "source": [
    "# 🧠 Bootcamp IA - Actividad de Modelado Supervisado"
   ]
  },
  {
   "cell_type": "markdown",
   "id": "6daa26ed",
   "metadata": {},
   "source": [
    "**Fecha:** 2025-05-13\n",
    "\n",
    "**Objetivo:** Preparar y analizar datos de comportamiento de compra para entrenar un modelo supervisado de predicción."
   ]
  },
  {
   "cell_type": "code",
   "execution_count": null,
   "id": "504063c1",
   "metadata": {},
   "outputs": [],
   "source": [
    "import pandas as pd\n",
    "import matplotlib.pyplot as plt\n",
    "import seaborn as sns\n",
    "from sklearn.model_selection import train_test_split\n",
    "from sklearn.preprocessing import LabelEncoder\n",
    "from sklearn.tree import DecisionTreeClassifier\n",
    "from sklearn.metrics import classification_report, confusion_matrix\n",
    "\n",
    "# Cargar el dataset\n",
    "df = pd.read_csv(\"churn_dataset4.csv\")\n",
    "df.head()"
   ]
  },
  {
   "cell_type": "markdown",
   "id": "8b74e7d6",
   "metadata": {},
   "source": [
    "## 1. Exploración inicial"
   ]
  },
  {
   "cell_type": "code",
   "execution_count": null,
   "id": "9d0e962c",
   "metadata": {},
   "outputs": [],
   "source": [
    "# Información general\n",
    "df.info()\n",
    "\n",
    "# Estadísticas descriptivas\n",
    "df.describe(include='all')"
   ]
  },
  {
   "cell_type": "markdown",
   "id": "154a2eb2",
   "metadata": {},
   "source": [
    "## 2. Limpieza de datos"
   ]
  },
  {
   "cell_type": "code",
   "execution_count": null,
   "id": "0f9b03d7",
   "metadata": {},
   "outputs": [],
   "source": [
    "# Verificar valores nulos\n",
    "df.isnull().sum()\n",
    "\n",
    "# (Opcional) Eliminar filas o columnas si fuera necesario\n",
    "# df.dropna(inplace=True)"
   ]
  },
  {
   "cell_type": "markdown",
   "id": "b881eb19",
   "metadata": {},
   "source": [
    "## 3. Análisis de variables"
   ]
  },
  {
   "cell_type": "code",
   "execution_count": null,
   "id": "86f6be19",
   "metadata": {},
   "outputs": [],
   "source": [
    "# Visualizar distribución de la variable objetivo\n",
    "sns.countplot(data=df, x='Compras_ultimos_6_meses')\n",
    "plt.title(\"Distribución de la variable objetivo\")\n",
    "plt.show()"
   ]
  },
  {
   "cell_type": "markdown",
   "id": "2c273f36",
   "metadata": {},
   "source": [
    "## 4. Codificación de variables categóricas"
   ]
  },
  {
   "cell_type": "code",
   "execution_count": null,
   "id": "4d69c61c",
   "metadata": {},
   "outputs": [],
   "source": [
    "# Crear una copia\n",
    "df_model = df.copy()\n",
    "\n",
    "# Codificar variables categóricas\n",
    "label_cols = ['Genero', 'Medio_de_pago', 'Tipo_de_tarjeta', 'Categoria', 'Provincia', 'Web']\n",
    "le = LabelEncoder()\n",
    "for col in label_cols:\n",
    "    df_model[col] = le.fit_transform(df_model[col])\n",
    "\n",
    "# Convertir variable objetivo a numérica\n",
    "df_model['Compras_ultimos_6_meses'] = df_model['Compras_ultimos_6_meses'].astype(int)\n",
    "\n",
    "# Convertir fecha en variable numérica (año, mes, día)\n",
    "df_model['Fecha'] = pd.to_datetime(df_model['Fecha'])\n",
    "df_model['Año'] = df_model['Fecha'].dt.year\n",
    "df_model['Mes'] = df_model['Fecha'].dt.month\n",
    "df_model['Día'] = df_model['Fecha'].dt.day\n",
    "df_model.drop(columns='Fecha', inplace=True)\n",
    "\n",
    "df_model.head()"
   ]
  },
  {
   "cell_type": "markdown",
   "id": "04156ded",
   "metadata": {},
   "source": [
    "## 5. División en variables predictoras (X) y objetivo (y)"
   ]
  },
  {
   "cell_type": "code",
   "execution_count": null,
   "id": "1eca52e5",
   "metadata": {},
   "outputs": [],
   "source": [
    "X = df_model.drop(columns='Compras_ultimos_6_meses')\n",
    "y = df_model['Compras_ultimos_6_meses']\n",
    "\n",
    "X_train, X_test, y_train, y_test = train_test_split(X, y, test_size=0.2, random_state=42)\n",
    "\n",
    "print(f\"Entrenamiento: {X_train.shape}, Prueba: {X_test.shape}\")"
   ]
  },
  {
   "cell_type": "markdown",
   "id": "9c8f7850",
   "metadata": {},
   "source": [
    "## 6. Entrenamiento de un modelo supervisado"
   ]
  },
  {
   "cell_type": "code",
   "execution_count": null,
   "id": "31114595",
   "metadata": {},
   "outputs": [],
   "source": [
    "# Usaremos un árbol de decisión\n",
    "clf = DecisionTreeClassifier(max_depth=5, random_state=42)\n",
    "clf.fit(X_train, y_train)\n",
    "\n",
    "# Predicciones\n",
    "y_pred = clf.predict(X_test)\n",
    "\n",
    "# Resultados\n",
    "print(confusion_matrix(y_test, y_pred))\n",
    "print(classification_report(y_test, y_pred))"
   ]
  },
  {
   "cell_type": "markdown",
   "id": "7021348e",
   "metadata": {},
   "source": [
    "## 7. Reflexión"
   ]
  },
  {
   "cell_type": "markdown",
   "id": "97d108be",
   "metadata": {},
   "source": [
    "- ¿Qué variables parecen más importantes?\n",
    "- ¿Qué mejorarías en la limpieza o transformación?\n",
    "- ¿Cómo podrías usar este modelo para una acción de marketing personalizada?\n"
   ]
  }
 ],
 "metadata": {},
 "nbformat": 4,
 "nbformat_minor": 5
}
